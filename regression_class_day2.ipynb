{
 "cells": [
  {
   "cell_type": "code",
   "execution_count": 2,
   "metadata": {},
   "outputs": [],
   "source": [
    "import numpy as np"
   ]
  },
  {
   "cell_type": "code",
   "execution_count": 8,
   "metadata": {},
   "outputs": [
    {
     "name": "stdout",
     "output_type": "stream",
     "text": [
      "(200, 2)\n",
      "(200, 2)\n"
     ]
    }
   ],
   "source": [
    "mean_01 = np.array([3,4])\n",
    "mean_02 = np.array([0,1])\n",
    "\n",
    "cov_01 = np.array([[1,-0.5],[-.5,1.0]])\n",
    "cov_02 = np.array([[1,0.5],[0.5,.6]])\n",
    "\n",
    "dist_01 = np.random.multivariate_normal(mean_01,cov_01,200)\n",
    "dist_02 = np.random.multivariate_normal(mean_02,cov_02,200)\n",
    "\n",
    "print(dist_01.shape)\n",
    "print(dist_02.shape)"
   ]
  },
  {
   "cell_type": "code",
   "execution_count": 15,
   "metadata": {},
   "outputs": [
    {
     "data": {
      "image/png": "[encoded data removed]",
      "text/plain": [
       "<matplotlib.figure.Figure at 0xb0846f0>"
      ]
     },
     "metadata": {},
     "output_type": "display_data"
    }
   ],
   "source": [
    "import matplotlib.pyplot as plt\n",
    "plt.scatter(dist_01[:,0],dist_01[:,1])\n",
    "plt.scatter(dist_02[:,0],dist_02[:,1])\n",
    "plt.show()"
   ]
  },
  {
   "cell_type": "code",
   "execution_count": 23,
   "metadata": {},
   "outputs": [
    {
     "name": "stdout",
     "output_type": "stream",
     "text": [
      "(400, 2)\n"
     ]
    }
   ],
   "source": [
    "labels = np.zeros((400,1))\n",
    "labels[200:] = 1.0\n",
    "\n",
    "X = np.zeros((400,2))\n",
    "X[:200,:] = dist_01\n",
    "X[200: ,:] = dist_02\n",
    "\n",
    "print(X.shape)\n",
    "\n",
    "import pandas as pd \n",
    "df = pd.DataFrame(X)\n",
    "df.to_csv('xdata.csv',header=None)\n",
    "\n",
    "df2 = pd.DataFrame(labels)\n",
    "df2.to_csv('ydata.csv',header=None)"
   ]
  },
  {
   "cell_type": "markdown",
   "metadata": {},
   "source": [
    "### KNN Algorithm"
   ]
  },
  {
   "cell_type": "code",
   "execution_count": 25,
   "metadata": {},
   "outputs": [
    {
     "name": "stdout",
     "output_type": "stream",
     "text": [
      "1.4142135623730951\n"
     ]
    }
   ],
   "source": [
    "def dist(x1,x2):\n",
    "    return np.sqrt(((x1-x2)**2).sum())\n",
    "x1 =np.array([0,0])\n",
    "x2 =np.array([1,1])\n",
    "\n",
    "print(dist(x1,x2))"
   ]
  },
  {
   "cell_type": "code",
   "execution_count": 26,
   "metadata": {},
   "outputs": [],
   "source": [
    "def knn(X,Y,query_point,k=5):\n",
    "    m = X.shape[0]\n",
    "    vals = []\n",
    "    for i in range(m):\n",
    "        t = dist(query_point,X[i,:]),Y[i]\n",
    "        vals.append(t)\n",
    "        \n",
    "    vals = sorted(vals)\n",
    "    prediction_array = np.array(vals[:k])\n",
    "    prediction_array = np.unique(prediction_array[:,1],return_counts=True)\n",
    "    \n",
    "    index = prediction_array[1].argmax()\n",
    "    \n",
    "    \n",
    "knn(X,Y,[0,4],        \n",
    "        "
   ]
  }
 ],
 "metadata": {
  "kernelspec": {
   "display_name": "Python 3",
   "language": "python",
   "name": "python3"
  },
  "language_info": {
   "codemirror_mode": {
    "name": "ipython",
    "version": 3
   },
   "file_extension": ".py",
   "mimetype": "text/x-python",
   "name": "python",
   "nbconvert_exporter": "python",
   "pygments_lexer": "ipython3",
   "version": "3.6.4"
  }
 },
 "nbformat": 4,
 "nbformat_minor": 2
}
