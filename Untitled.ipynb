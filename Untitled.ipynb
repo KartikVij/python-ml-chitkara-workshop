{
 "cells": [
  {
   "cell_type": "markdown",
   "metadata": {},
   "source": [
    "### Linear Regression - Algorithm, Supervised Learning"
   ]
  },
  {
   "cell_type": "markdown",
   "metadata": {},
   "source": [
    "### Read the Data"
   ]
  },
  {
   "cell_type": "code",
   "execution_count": 4,
   "metadata": {},
   "outputs": [],
   "source": [
    "import numpy as np\n",
    "import pandas as pd"
   ]
  },
  {
   "cell_type": "code",
   "execution_count": 22,
   "metadata": {},
   "outputs": [
    {
     "name": "stdout",
     "output_type": "stream",
     "text": [
      "8.0\n",
      "(99,)\n",
      "(99,)\n"
     ]
    }
   ],
   "source": [
    "\"\"\"Pandas Dataframe (inbuilt object)\"\"\"\n",
    "dfx = pd.read_csv('linearX.csv')\n",
    "dfy = pd.read_csv('linearY.csv')\n",
    "\n",
    "\"\"\"Convert Pandas Data Frame into Numpy Arrays\"\"\"\n",
    "X = dfx.values\n",
    "Y = dfy.values\n",
    "X = X.reshape((-1,))\n",
    "Y = Y.reshape((-1,))\n",
    "print(X[0])\n",
    "print(X.shape)\n",
    "print(Y.shape)"
   ]
  },
  {
   "cell_type": "code",
   "execution_count": null,
   "metadata": {},
   "outputs": [],
   "source": []
  },
  {
   "cell_type": "code",
   "execution_count": null,
   "metadata": {},
   "outputs": [],
   "source": []
  }
 ],
 "metadata": {
  "kernelspec": {
   "display_name": "Python 3",
   "language": "python",
   "name": "python3"
  },
  "language_info": {
   "codemirror_mode": {
    "name": "ipython",
    "version": 3
   },
   "file_extension": ".py",
   "mimetype": "text/x-python",
   "name": "python",
   "nbconvert_exporter": "python",
   "pygments_lexer": "ipython3",
   "version": "3.6.4"
  }
 },
 "nbformat": 4,
 "nbformat_minor": 2
}
