{
 "cells": [
  {
   "cell_type": "code",
   "execution_count": 6,
   "metadata": {},
   "outputs": [
    {
     "name": "stdout",
     "output_type": "stream",
     "text": [
      "Hello Chitkara,This is a ML Workshop\n"
     ]
    }
   ],
   "source": [
    "print(\"Hello Chitkara\",end=',')\n",
    "print(\"This is a ML Workshop\")"
   ]
  },
  {
   "cell_type": "code",
   "execution_count": 8,
   "metadata": {},
   "outputs": [
    {
     "data": {
      "text/plain": [
       "'This is a \\nmultiline comment'"
      ]
     },
     "execution_count": 8,
     "metadata": {},
     "output_type": "execute_result"
    }
   ],
   "source": [
    "\"\"\"This is a \n",
    "multiline comment\"\"\"\n",
    "# Signgle line comment\n"
   ]
  },
  {
   "cell_type": "code",
   "execution_count": 3,
   "metadata": {},
   "outputs": [
    {
     "name": "stdout",
     "output_type": "stream",
     "text": [
      "5.5hi\n",
      "<class 'float'>\n",
      "<class 'str'>\n"
     ]
    }
   ],
   "source": [
    "\"\"\"Variables\"\"\"\n",
    "a = 5.5\n",
    "b = 10\n",
    "b = \"hi\"\n",
    "print(str(a)+b)\n",
    "print(type(a))\n",
    "print(type(b))\n"
   ]
  },
  {
   "cell_type": "code",
   "execution_count": null,
   "metadata": {},
   "outputs": [],
   "source": [
    "clg_name = input(\"Enter You College\")\n",
    "print(\"Hi \",clg_name)"
   ]
  },
  {
   "cell_type": "code",
   "execution_count": 1,
   "metadata": {},
   "outputs": [],
   "source": [
    "a = 10\n"
   ]
  },
  {
   "cell_type": "code",
   "execution_count": 4,
   "metadata": {},
   "outputs": [
    {
     "name": "stdout",
     "output_type": "stream",
     "text": [
      "5.5\n"
     ]
    }
   ],
   "source": [
    "print(a)"
   ]
  },
  {
   "cell_type": "code",
   "execution_count": 6,
   "metadata": {},
   "outputs": [
    {
     "name": "stdout",
     "output_type": "stream",
     "text": [
      "Hello and 10\n"
     ]
    }
   ],
   "source": [
    "\"\"\"Basic Airthmetic In Python\"\"\"\n",
    "a = 10\n",
    "b = \"Hello\"\n",
    "print(\"%s and %d\"%(b,a))"
   ]
  },
  {
   "cell_type": "code",
   "execution_count": 7,
   "metadata": {},
   "outputs": [
    {
     "name": "stdout",
     "output_type": "stream",
     "text": [
      "11\n"
     ]
    }
   ],
   "source": [
    "a = \"Hello World\"\n",
    "print(len(a))"
   ]
  },
  {
   "cell_type": "code",
   "execution_count": 2,
   "metadata": {},
   "outputs": [
    {
     "name": "stdout",
     "output_type": "stream",
     "text": [
      "10 20 30 40\n",
      "['10', '20', '30', '40']\n"
     ]
    },
    {
     "data": {
      "text/plain": [
       "10"
      ]
     },
     "execution_count": 2,
     "metadata": {},
     "output_type": "execute_result"
    }
   ],
   "source": [
    "\"\"\"Read a list of numbers\"\"\"\n",
    "numbers = input()\n",
    "l = numbers.split()\n",
    "print(l)\n",
    "10"
   ]
  },
  {
   "cell_type": "code",
   "execution_count": 18,
   "metadata": {},
   "outputs": [
    {
     "name": "stdout",
     "output_type": "stream",
     "text": [
      "[5, [2, 3, 7, 8], 4, 'Hello', 9.0, 40]\n",
      "<class 'list'>\n",
      "[2, 3, 7, 8]\n",
      "[[2, 3, 7, 8], 4]\n",
      "[9.0, 4, 5]\n"
     ]
    }
   ],
   "source": [
    "\"\"\"Lists in Python\"\"\"\n",
    "l = [1,[2,3,7,8],4,\"Hello\",9.0]\n",
    "l.append(40)\n",
    "l[0] = 5\n",
    "print(l)\n",
    "print(type(l))\n",
    "print(l[1])\n",
    "\"\"\"Slicing\"\"\"\n",
    "print(l[1:3])\n",
    "print(l[-2::-2])"
   ]
  },
  {
   "cell_type": "code",
   "execution_count": 10,
   "metadata": {},
   "outputs": [
    {
     "name": "stdout",
     "output_type": "stream",
     "text": [
      "World\n"
     ]
    }
   ],
   "source": [
    "s = \"Hello\"\n",
    "s = \"World\"\n",
    "print(s)\n",
    "#s[0] = 'A'"
   ]
  },
  {
   "cell_type": "code",
   "execution_count": 34,
   "metadata": {},
   "outputs": [
    {
     "name": "stdout",
     "output_type": "stream",
     "text": [
      "[4, 3, 5, 7, 8]\n",
      "[4, 5, 7, 8]\n",
      "[4, 5, 8]\n",
      "[4, 5]\n"
     ]
    }
   ],
   "source": [
    "#l = [1,2,3]\n",
    "l = [4,3,5,7,8]\n",
    "print(l)\n",
    "l.pop(1)\n",
    "print(l)\n",
    "l.remove(7)\n",
    "print(l)\n",
    "del l[2]\n",
    "print(l)"
   ]
  },
  {
   "cell_type": "code",
   "execution_count": 36,
   "metadata": {},
   "outputs": [
    {
     "name": "stdout",
     "output_type": "stream",
     "text": [
      "1\n",
      "3\n",
      "5\n",
      "7\n",
      "9\n",
      "Loop Ended\n"
     ]
    }
   ],
   "source": [
    "\"\"\"Loops in Python\"\"\"\n",
    "i = 1\n",
    "while i<=10:\n",
    "    print(i)\n",
    "    i += 2\n",
    "print(\"Loop Ended\")"
   ]
  },
  {
   "cell_type": "code",
   "execution_count": 60,
   "metadata": {},
   "outputs": [
    {
     "name": "stdout",
     "output_type": "stream",
     "text": [
      "10,8,6,4,2,"
     ]
    }
   ],
   "source": [
    "for i in range(10,0,-2):\n",
    "    print(i,end=\",\")"
   ]
  },
  {
   "cell_type": "code",
   "execution_count": 57,
   "metadata": {},
   "outputs": [
    {
     "name": "stdout",
     "output_type": "stream",
     "text": [
      "1.000 and 1 ,1.414 and 2 ,1.732 and 3 ,2.000 and 4 ,2.449 and 6 ,"
     ]
    }
   ],
   "source": [
    "l = [1,2,3,4,6]\n",
    "for x in l:\n",
    "    print(\"%.3f and %d \"%(x**0.5,x),end=\",\")"
   ]
  },
  {
   "cell_type": "code",
   "execution_count": 58,
   "metadata": {},
   "outputs": [
    {
     "name": "stdout",
     "output_type": "stream",
     "text": [
      "1\n",
      "2\n",
      "3\n",
      "4\n",
      "6\n"
     ]
    }
   ],
   "source": [
    "for i in range(len(l)):\n",
    "    print(l[i])"
   ]
  },
  {
   "cell_type": "code",
   "execution_count": 2,
   "metadata": {},
   "outputs": [
    {
     "name": "stdout",
     "output_type": "stream",
     "text": [
      "Enter the number20\n",
      "2432902008176640000\n"
     ]
    }
   ],
   "source": [
    "\"\"\"Write a program to print Factorial of a number\"\"\"\n",
    "n = int(input(\"Enter the number\"))\n",
    "fact = 1\n",
    "for i in range(1,n+1):\n",
    "    fact = fact*i\n",
    "print(fact)"
   ]
  },
  {
   "cell_type": "markdown",
   "metadata": {},
   "source": [
    "### Goodie Question : Find Trailing Zeroes in a Factorial of a Number without \n",
    "### calculating the factorial\n",
    "\n"
   ]
  },
  {
   "cell_type": "code",
   "execution_count": 1,
   "metadata": {},
   "outputs": [
    {
     "name": "stdout",
     "output_type": "stream",
     "text": [
      "7\n"
     ]
    }
   ],
   "source": [
    "n = 30\n",
    "ans = 0\n",
    "i = 1\n",
    "while(True):\n",
    "    if(n==0):\n",
    "        break\n",
    "    val = n//(5**i)\n",
    "    if val==0:\n",
    "        break\n",
    "    ans += val\n",
    "    i = i + 1\n",
    "    \n",
    "print(ans)    "
   ]
  },
  {
   "cell_type": "markdown",
   "metadata": {},
   "source": [
    "## More Builtin Data Structures\n",
    "- Lists\n",
    "- Tuples\n",
    "- Dictionaries"
   ]
  },
  {
   "cell_type": "code",
   "execution_count": 6,
   "metadata": {},
   "outputs": [
    {
     "name": "stdout",
     "output_type": "stream",
     "text": [
      "(1, 2, 3, 'Hello')\n",
      "<class 'tuple'>\n"
     ]
    }
   ],
   "source": [
    "a = (1,2,3,\"Hello\")\n",
    "print(a)\n",
    "print(type(a))\n"
   ]
  },
  {
   "cell_type": "markdown",
   "metadata": {},
   "source": [
    "### Dictionary (Hashmaps)\n",
    "\n"
   ]
  },
  {
   "cell_type": "code",
   "execution_count": 31,
   "metadata": {},
   "outputs": [
    {
     "name": "stdout",
     "output_type": "stream",
     "text": [
      "100\n",
      "70\n",
      "90\n",
      "{'mango': 100, 'Apple': {'Red': 90, 'Green': 100}, 'Guava': [60, 70]}\n",
      "{'mango': 100, 'Apple': {'Red': 90, 'Green': 100}, 'Guava': [60, 70]}\n"
     ]
    }
   ],
   "source": [
    "d = {\"mango\":100, \"Apple\":{\"Red\":90,\"Green\":100}, \"Guava\":[60,70]}\n",
    "print(d[\"mango\"])\n",
    "print(d[\"Guava\"][1])\n",
    "print(d[\"Apple\"][\"Red\"])\n",
    "\n",
    "#fruit = input()\n",
    "#d[fruit] = 40\n",
    "print(d)\n",
    "\n",
    "#del d[\"mango\"]\n",
    "print(d)\n",
    "#fruit = fruit.lower()\n",
    "#print(d[fruit])"
   ]
  },
  {
   "cell_type": "code",
   "execution_count": 25,
   "metadata": {},
   "outputs": [
    {
     "name": "stdout",
     "output_type": "stream",
     "text": [
      "Pineapple Juice Is Sweet\n"
     ]
    }
   ],
   "source": [
    "s = \"pineapple juice is sweet\"\n",
    "s = s.title()\n",
    "print(s)"
   ]
  },
  {
   "cell_type": "code",
   "execution_count": 34,
   "metadata": {},
   "outputs": [
    {
     "name": "stdout",
     "output_type": "stream",
     "text": [
      "['mango', 'Apple', 'Guava']\n"
     ]
    }
   ],
   "source": [
    "l = list(d.keys())\n",
    "print(l)"
   ]
  },
  {
   "cell_type": "code",
   "execution_count": 35,
   "metadata": {},
   "outputs": [
    {
     "name": "stdout",
     "output_type": "stream",
     "text": [
      "[100, {'Red': 90, 'Green': 100}, [60, 70]]\n"
     ]
    }
   ],
   "source": [
    "values = list(d.values())\n",
    "print(values)"
   ]
  },
  {
   "cell_type": "code",
   "execution_count": 41,
   "metadata": {},
   "outputs": [
    {
     "name": "stdout",
     "output_type": "stream",
     "text": [
      "{'Delhi': 1, 'Mumbai': 2, 'Chandigarh': 3, 'Amritsar': 4}\n"
     ]
    }
   ],
   "source": [
    "citycode = [1,2,3,4]\n",
    "cities = [\"Delhi\",\"Mumbai\",\"Chandigarh\",\"Amritsar\"]\n",
    "\n",
    "d = dict(zip(cities,citycode))\n",
    "print(d)"
   ]
  },
  {
   "cell_type": "code",
   "execution_count": 45,
   "metadata": {},
   "outputs": [
    {
     "name": "stdout",
     "output_type": "stream",
     "text": [
      "Delhi 1\n",
      "Mumbai 2\n",
      "Chandigarh 3\n",
      "Amritsar 4\n"
     ]
    }
   ],
   "source": [
    "for i in d:\n",
    "    print(i,d[i])"
   ]
  },
  {
   "cell_type": "markdown",
   "metadata": {},
   "source": [
    "### Set - stores unique elements"
   ]
  },
  {
   "cell_type": "code",
   "execution_count": 49,
   "metadata": {},
   "outputs": [
    {
     "name": "stdout",
     "output_type": "stream",
     "text": [
      "{1, 2, 3, 4, 51}\n"
     ]
    }
   ],
   "source": [
    "a = set([1,2,3,4,4,51,1,1])\n",
    "print(a)"
   ]
  },
  {
   "cell_type": "markdown",
   "metadata": {},
   "source": [
    "### Functions in Python"
   ]
  },
  {
   "cell_type": "code",
   "execution_count": 54,
   "metadata": {},
   "outputs": [
    {
     "name": "stdout",
     "output_type": "stream",
     "text": [
      "Hello everyone50\n",
      "This is inside function\n"
     ]
    }
   ],
   "source": [
    "def sayHi(s,a=10):\n",
    "    print(\"Hello \"+s + str(a))\n",
    "    print(\"This is inside function\")\n",
    "    \n",
    "sayHi(\"everyone\",50)"
   ]
  },
  {
   "cell_type": "code",
   "execution_count": 60,
   "metadata": {},
   "outputs": [
    {
     "name": "stdout",
     "output_type": "stream",
     "text": [
      "2,3,5,7,11,13,17,19,23,29,31,37,41,43,47,53,59,61,67,71,73,79,83,89,97,"
     ]
    }
   ],
   "source": [
    "def checkPrime(n):\n",
    "    for i in range(2,n-1):\n",
    "        if(n%i==0):\n",
    "            return False        \n",
    "    return True\n",
    "\n",
    "def printPrime(r):\n",
    "    for i in range(2,r+1):\n",
    "        if(checkPrime(i)):\n",
    "            print(i,end=\",\")\n",
    "            \n",
    "printPrime(100)"
   ]
  },
  {
   "cell_type": "markdown",
   "metadata": {},
   "source": [
    "### Passing Variable Number of Parameters"
   ]
  },
  {
   "cell_type": "code",
   "execution_count": 70,
   "metadata": {},
   "outputs": [
    {
     "name": "stdout",
     "output_type": "stream",
     "text": [
      "1\n",
      "2\n",
      "(3, 4, 5, 6)\n",
      "3\n",
      "4\n",
      "5\n",
      "6\n",
      "<class 'tuple'>\n",
      "{'fruit': 'Mango', 'price': '90', 'shake': 'IceCreamShake'}\n",
      "fruit Mango\n",
      "price 90\n",
      "shake IceCreamShake\n"
     ]
    }
   ],
   "source": [
    "def fun(a,b,*x,**y):\n",
    "    print(a)\n",
    "    print(b)\n",
    "    print(x)\n",
    "    for no in x:\n",
    "        print(no)\n",
    "    print(type(x))\n",
    "    print(y)\n",
    "    for k in y:\n",
    "        print(k,y[k])\n",
    "fun(1,2,3,4,5,6,fruit=\"Mango\",price=\"90\",shake=\"IceCreamShake\")\n",
    "    "
   ]
  },
  {
   "cell_type": "code",
   "execution_count": 71,
   "metadata": {},
   "outputs": [],
   "source": [
    "import math"
   ]
  },
  {
   "cell_type": "code",
   "execution_count": 79,
   "metadata": {},
   "outputs": [
    {
     "name": "stdout",
     "output_type": "stream",
     "text": [
      "5.0\n",
      "4.0\n",
      "2.0\n",
      "3.141592653589793\n",
      "2.718281828459045\n",
      "-inf\n"
     ]
    }
   ],
   "source": [
    "print(math.sqrt(25))\n",
    "print(math.log2(16))\n",
    "print(math.log(100,10))\n",
    "print(math.pi)\n",
    "print(math.e)\n",
    "print(-math.inf)\n"
   ]
  },
  {
   "cell_type": "code",
   "execution_count": 85,
   "metadata": {},
   "outputs": [],
   "source": [
    "from math import sqrt as sq\n"
   ]
  },
  {
   "cell_type": "code",
   "execution_count": 88,
   "metadata": {},
   "outputs": [
    {
     "name": "stdout",
     "output_type": "stream",
     "text": [
      "3.1622776601683795\n"
     ]
    }
   ],
   "source": [
    "print(sq(10))\n",
    "#print(log(100,10))"
   ]
  },
  {
   "cell_type": "code",
   "execution_count": 89,
   "metadata": {},
   "outputs": [
    {
     "name": "stdout",
     "output_type": "stream",
     "text": [
      "10.0\n"
     ]
    }
   ],
   "source": [
    "import math as mathematics\n",
    "print(mathematics.sqrt(100))"
   ]
  },
  {
   "cell_type": "code",
   "execution_count": 90,
   "metadata": {},
   "outputs": [],
   "source": [
    "import numpy as np"
   ]
  },
  {
   "cell_type": "code",
   "execution_count": 96,
   "metadata": {},
   "outputs": [
    {
     "name": "stdout",
     "output_type": "stream",
     "text": [
      "[1 2 3 4]\n",
      "<class 'numpy.ndarray'>\n",
      "(4,)\n"
     ]
    }
   ],
   "source": [
    "a = np.array([1,2,3,4])\n",
    "print(a)\n",
    "print(type(a))\n",
    "print(a.shape)"
   ]
  },
  {
   "cell_type": "code",
   "execution_count": 108,
   "metadata": {},
   "outputs": [
    {
     "name": "stdout",
     "output_type": "stream",
     "text": [
      "(4, 1)\n",
      "[[1]\n",
      " [2]\n",
      " [3]\n",
      " [4]]\n",
      "[[1 2]\n",
      " [3 4]]\n",
      "(2, 2)\n"
     ]
    }
   ],
   "source": [
    "b = np.array([[1],[2],[3],[4]])\n",
    "print(b.shape)\n",
    "print(b)\n",
    "c = np.array([[1,2],[3,4]])\n",
    "print(c)\n",
    "d = c\n",
    "print(c.shape)"
   ]
  },
  {
   "cell_type": "code",
   "execution_count": 111,
   "metadata": {},
   "outputs": [
    {
     "name": "stdout",
     "output_type": "stream",
     "text": [
      "[[1 2]\n",
      " [3 4]]\n",
      "[[5 6]\n",
      " [7 8]]\n"
     ]
    }
   ],
   "source": [
    "c = np.array([[1,2],[3,4]])\n",
    "d = np.array([[1,2],[3,4]]) + 4\n",
    "print(c)\n",
    "print(d)"
   ]
  },
  {
   "cell_type": "code",
   "execution_count": 114,
   "metadata": {},
   "outputs": [
    {
     "data": {
      "text/plain": [
       "array([[19, 22],\n",
       "       [43, 50]])"
      ]
     },
     "execution_count": 114,
     "metadata": {},
     "output_type": "execute_result"
    }
   ],
   "source": [
    "np.dot(c,d)"
   ]
  },
  {
   "cell_type": "code",
   "execution_count": 129,
   "metadata": {},
   "outputs": [
    {
     "name": "stdout",
     "output_type": "stream",
     "text": [
      "int64\n",
      "[[1 1 1]\n",
      " [1 1 1]\n",
      " [1 1 1]]\n",
      "[[1 0 0 0]\n",
      " [0 1 0 0]\n",
      " [0 0 1 0]\n",
      " [0 0 0 1]]\n",
      "[[1 0 0 0]\n",
      " [0 1 0 0]\n",
      " [0 0 5 5]\n",
      " [0 0 5 5]]\n"
     ]
    }
   ],
   "source": [
    "z = np.zeros((4,3))\n",
    "\n",
    "ones = np.ones((3,3),dtype='int64')\n",
    "print(ones.dtype)\n",
    "print(ones)\n",
    "\n",
    "m = np.eye(4,dtype='int64')\n",
    "print(m)\n",
    "m[-2:, -2: ] = 5\n",
    "print(m)"
   ]
  },
  {
   "cell_type": "code",
   "execution_count": null,
   "metadata": {},
   "outputs": [],
   "source": []
  },
  {
   "cell_type": "code",
   "execution_count": null,
   "metadata": {},
   "outputs": [],
   "source": []
  }
 ],
 "metadata": {
  "kernelspec": {
   "display_name": "Python 3",
   "language": "python",
   "name": "python3"
  },
  "language_info": {
   "codemirror_mode": {
    "name": "ipython",
    "version": 3
   },
   "file_extension": ".py",
   "mimetype": "text/x-python",
   "name": "python",
   "nbconvert_exporter": "python",
   "pygments_lexer": "ipython3",
   "version": "3.6.4"
  }
 },
 "nbformat": 4,
 "nbformat_minor": 2
}
